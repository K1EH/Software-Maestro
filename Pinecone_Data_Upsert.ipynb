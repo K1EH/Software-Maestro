{
  "nbformat": 4,
  "nbformat_minor": 0,
  "metadata": {
    "colab": {
      "provenance": [],
      "authorship_tag": "ABX9TyOufAMmxR9psSe40czW5adq",
      "include_colab_link": true
    },
    "kernelspec": {
      "name": "python3",
      "display_name": "Python 3"
    },
    "language_info": {
      "name": "python"
    }
  },
  "cells": [
    {
      "cell_type": "markdown",
      "metadata": {
        "id": "view-in-github",
        "colab_type": "text"
      },
      "source": [
        "<a href=\"https://colab.research.google.com/github/K1EH/Software-Maestro/blob/main/Pinecone_Data_Upsert.ipynb\" target=\"_parent\"><img src=\"https://colab.research.google.com/assets/colab-badge.svg\" alt=\"Open In Colab\"/></a>"
      ]
    },
    {
      "cell_type": "markdown",
      "source": [
        "# **Install Library**"
      ],
      "metadata": {
        "id": "v6Mq1U6WTpvm"
      }
    },
    {
      "cell_type": "code",
      "source": [
        "# Vector Embedding\n",
        "!pip install -q kobert-transformers\n",
        "\n",
        "# Pinecone\n",
        "!pip install -q pinecone\n",
        "!pip install -q pinecone-plugin-inference\n",
        "!pip install -q pinecone-plugin-interface\n",
        "!pip install -q pinecone-client\n",
        "!pip install -q protoc-gen-openapiv2"
      ],
      "metadata": {
        "id": "-DZXYeJ_To7b"
      },
      "execution_count": null,
      "outputs": []
    },
    {
      "cell_type": "markdown",
      "source": [
        "## **Google Drive Mount**"
      ],
      "metadata": {
        "id": "DRWyARNUXC58"
      }
    },
    {
      "cell_type": "code",
      "execution_count": null,
      "metadata": {
        "id": "KiE73-oxRh7u"
      },
      "outputs": [],
      "source": [
        "from google.colab import drive\n",
        "drive.mount('/content/drive')"
      ]
    },
    {
      "cell_type": "markdown",
      "source": [
        "## **Custom Functions**"
      ],
      "metadata": {
        "id": "MX8UEGIai-bn"
      }
    },
    {
      "cell_type": "code",
      "source": [
        "def df_left_align(df, num_rows=5):\n",
        "    \"\"\"\n",
        "    스타일을 적용하여 데이터프레임을 좌측 정렬합니다.\n",
        "\n",
        "    Parameters:\n",
        "    df (pd.DataFrame): 스타일을 적용할 데이터프레임\n",
        "    num_rows (int): 출력할 행의 수, 기본값은 5\n",
        "\n",
        "    Returns:\n",
        "    pd.io.formats.style.Styler: 좌측 정렬 스타일이 적용된 데이터프레임\n",
        "    \"\"\"\n",
        "    styled_df = df.head(num_rows).style.set_properties(**{'text-align': 'left'})\n",
        "    styled_df = styled_df.set_table_styles([dict(selector='th', props=[('text-align', 'left')])])\n",
        "    return styled_df"
      ],
      "metadata": {
        "id": "IQ76VY5jR__n"
      },
      "execution_count": null,
      "outputs": []
    },
    {
      "cell_type": "markdown",
      "source": [
        "# **Data Preprocessing for Upsert VectorDB**"
      ],
      "metadata": {
        "id": "OkSM40XqKMG2"
      }
    },
    {
      "cell_type": "markdown",
      "source": [
        "## **Data Preprocessing**"
      ],
      "metadata": {
        "id": "YdRZfhflYPYx"
      }
    },
    {
      "cell_type": "markdown",
      "source": [
        "**Load Data**"
      ],
      "metadata": {
        "id": "1MuuVA2pl4U4"
      }
    },
    {
      "cell_type": "code",
      "source": [
        "dataset_path = \"/content/drive/MyDrive/datasets/V2_QuestionsListforVectorDB.csv\""
      ],
      "metadata": {
        "id": "HADz87zrSKbm"
      },
      "execution_count": null,
      "outputs": []
    },
    {
      "cell_type": "code",
      "source": [
        "import pandas as pd\n",
        "\n",
        "# 엑셀 파일을 읽어옵니다.\n",
        "df = pd.read_csv(dataset_path, encoding = \"utf-8\")\n",
        "\n",
        "df"
      ],
      "metadata": {
        "id": "maKiZc48SLkA"
      },
      "execution_count": null,
      "outputs": []
    },
    {
      "cell_type": "markdown",
      "source": [
        "**Data Preprocessing**"
      ],
      "metadata": {
        "id": "AJ-qR5r2pmNp"
      }
    },
    {
      "cell_type": "code",
      "source": [
        "df_subset = df[['질문', '기술 분야', '기술 키워드']].dropna()\n",
        "df_subset"
      ],
      "metadata": {
        "id": "m3MGIN6XSOqF"
      },
      "execution_count": null,
      "outputs": []
    },
    {
      "cell_type": "code",
      "source": [
        "# 특정 컬럼을 리스트로 변환합니다.\n",
        "questions = df_subset['질문'].tolist()\n",
        "tech_fields = df_subset['기술 분야'].apply(lambda x: x.split(', ')).tolist()\n",
        "tech_keywords = df_subset['기술 키워드'].apply(lambda x: x.split(', ')).tolist()\n",
        "\n",
        "print(tech_fields)"
      ],
      "metadata": {
        "id": "nCVJ9C2aSP23"
      },
      "execution_count": null,
      "outputs": []
    },
    {
      "cell_type": "markdown",
      "source": [
        "**Create uuid**"
      ],
      "metadata": {
        "id": "1-QiixffqaBv"
      }
    },
    {
      "cell_type": "code",
      "source": [
        "import uuid\n",
        "uuid_list = []\n",
        "for _ in range(len(questions)):\n",
        "  uuid_list.append(str(uuid.uuid4()))\n",
        "print(f\"{uuid_list[0:5]}\\n{len(uuid_list)}\")"
      ],
      "metadata": {
        "id": "U8fdun0dSRsY"
      },
      "execution_count": null,
      "outputs": []
    },
    {
      "cell_type": "markdown",
      "source": [
        "**Vector Embedding**"
      ],
      "metadata": {
        "id": "uvu7Yq5f7_IY"
      }
    },
    {
      "cell_type": "code",
      "source": [
        "from kobert_transformers import get_kobert_model, get_tokenizer\n",
        "import torch\n",
        "\n",
        "# KoBERT 모델 및 토크나이저 로드\n",
        "model = get_kobert_model()\n",
        "tokenizer = get_tokenizer()"
      ],
      "metadata": {
        "id": "FmbDyuB-SVCB"
      },
      "execution_count": null,
      "outputs": []
    },
    {
      "cell_type": "code",
      "source": [
        "# 문장을 KoBERT 모델의 입력에 맞게 토큰화\n",
        "inputs = tokenizer(questions, return_tensors='pt', padding=True, truncation=True)\n",
        "\n",
        "# KoBERT로 문장 임베딩 생성 (CLS 토큰의 출력을 사용)\n",
        "with torch.no_grad():\n",
        "    outputs = model(**inputs)\n",
        "    sentence_embeddings = outputs.last_hidden_state[:, 0, :]  # CLS 토큰 사용\n",
        "\n",
        "# 벡터 형태로 변환\n",
        "embeddings = sentence_embeddings.numpy()\n",
        "\n",
        "print(embeddings)"
      ],
      "metadata": {
        "id": "CP3YZadYSYBI"
      },
      "execution_count": null,
      "outputs": []
    },
    {
      "cell_type": "markdown",
      "source": [
        "**Save Preprocessed Datasets as JSON**\n",
        "\n",
        "파일 저장 후 꼭 다운로드, Colab 세션 종료 시 데이터 소실됨"
      ],
      "metadata": {
        "id": "6B2DAeZEq3n0"
      }
    },
    {
      "cell_type": "code",
      "source": [
        "import json\n",
        "\n",
        "# 딕셔너리 형태로 데이터 결합\n",
        "data = {\n",
        "    \"uuid_list\": uuid_list,\n",
        "    \"questions\": questions,\n",
        "    \"embeddings\":embeddings.tolist(),\n",
        "    \"tech_fields\": tech_fields,\n",
        "    \"tech_keywords\": tech_keywords\n",
        "}\n",
        "\n",
        "# JSON 파일로 저장\n",
        "output_path = '/content/drive/MyDrive/datasets/V2_PreprocessedDataset.json'\n",
        "with open(output_path, 'w', encoding='utf-8') as f:\n",
        "    json.dump(data, f, ensure_ascii=False, indent=4)"
      ],
      "metadata": {
        "id": "CFyAo2nzSbvM"
      },
      "execution_count": null,
      "outputs": []
    },
    {
      "cell_type": "code",
      "source": [
        "with open('/content/drive/MyDrive/datasets/V2_PreprocessedDataset.json', 'r', encoding='utf-8') as f:\n",
        "    data = json.load(f)"
      ],
      "metadata": {
        "id": "Q59aXOiTSdzJ"
      },
      "execution_count": null,
      "outputs": []
    },
    {
      "cell_type": "code",
      "source": [
        "# 특정 컬럼 데이터 조회\n",
        "json_uuid_list = data['uuid_list']\n",
        "json_questions = data['questions']\n",
        "json_embeddings = data['embeddings']\n",
        "json_tech_fields = data['tech_fields']\n",
        "json_tech_keywords = data['tech_keywords']\n",
        "\n",
        "df_loaded = pd.DataFrame(data)\n",
        "\n",
        "# 변환된 DataFrame 출력\n",
        "df_loaded"
      ],
      "metadata": {
        "id": "veeCv3rXSkJs"
      },
      "execution_count": null,
      "outputs": []
    },
    {
      "cell_type": "markdown",
      "source": [
        "**Check Tech Keywords**"
      ],
      "metadata": {
        "id": "jQLXita_Bq1d"
      }
    },
    {
      "cell_type": "code",
      "source": [
        "json_tech_keywords"
      ],
      "metadata": {
        "id": "UC6Eo-NaSnOW"
      },
      "execution_count": null,
      "outputs": []
    },
    {
      "cell_type": "code",
      "source": [
        "from collections import Counter\n",
        "\n",
        "# 개수 카운팅 및 중복 없이 리스트 반환\n",
        "# 플랫 리스트 생성 및 카운팅\n",
        "flat_list = [item for sublist in json_tech_keywords for item in sublist]\n",
        "keyword_counts = Counter(flat_list)\n",
        "unique_keywords = list(keyword_counts.keys())\n",
        "\n",
        "print(\"Keyword Counts:\", keyword_counts)\n",
        "print(\"Unique Keywords:\", unique_keywords)\n",
        "tech_keywords_df = pd.DataFrame(list(keyword_counts.items()), columns=['Keyword', 'Count'])\n",
        "tech_keywords_df"
      ],
      "metadata": {
        "id": "TsAdRnbESpeJ"
      },
      "execution_count": null,
      "outputs": []
    },
    {
      "cell_type": "markdown",
      "source": [
        "# **API KEYS / Environment Variable Setting**"
      ],
      "metadata": {
        "id": "M3Iu1mWsXImv"
      }
    },
    {
      "cell_type": "code",
      "source": [
        "PINECONE_API_KEY = \"INPUT_API_KEY\""
      ],
      "metadata": {
        "id": "lijjvIDhTGLN"
      },
      "execution_count": null,
      "outputs": []
    },
    {
      "cell_type": "markdown",
      "source": [
        "## **Pinecone Setting**"
      ],
      "metadata": {
        "id": "_3OrRcAfX0TF"
      }
    },
    {
      "cell_type": "code",
      "source": [
        "from pinecone.grpc import PineconeGRPC as Pinecone\n",
        "from pinecone import ServerlessSpec\n",
        "\n",
        "pc = Pinecone(api_key = PINECONE_API_KEY)"
      ],
      "metadata": {
        "id": "cKM7nlF4TI4z"
      },
      "execution_count": null,
      "outputs": []
    },
    {
      "cell_type": "markdown",
      "source": [
        "**Version에 따른 index_name 관리**"
      ],
      "metadata": {
        "id": "466jkHwZpaW1"
      }
    },
    {
      "cell_type": "code",
      "source": [
        "index_name = \"v2-tech-questions\""
      ],
      "metadata": {
        "id": "wWZICeJjT-D9"
      },
      "execution_count": null,
      "outputs": []
    },
    {
      "cell_type": "code",
      "source": [
        "# index_name이 존재하지 않는 경우, 새 index 생성\n",
        "if index_name not in pc.list_indexes().names():\n",
        "    pc.create_index(\n",
        "        name=index_name,\n",
        "        dimension=768, # KoBERT의 벡터 차원은 768\n",
        "        metric=\"cosine\",\n",
        "        spec=ServerlessSpec(\n",
        "            cloud='aws',\n",
        "            region='us-east-1'\n",
        "        )\n",
        "    )\n",
        "else:\n",
        "  index = pc.Index(index_name)"
      ],
      "metadata": {
        "id": "VOTTzuWnTO6j"
      },
      "execution_count": null,
      "outputs": []
    },
    {
      "cell_type": "markdown",
      "source": [
        "[Pinecone-생성된 index 확인](https://app.pinecone.io/organizations/-O5gSVhLYwEb_91KPO77/projects/86f3ee9d-62ba-4885-8503-348118c90769/indexes)\n",
        "\n",
        "![image.png](data:image/png;base64,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)"
      ],
      "metadata": {
        "id": "QdP9nRkNp875"
      }
    },
    {
      "cell_type": "markdown",
      "source": [
        "# **Upsert Data to Vector DB**"
      ],
      "metadata": {
        "id": "JzUWRlIj7x7-"
      }
    },
    {
      "cell_type": "markdown",
      "source": [
        "**Vectors to Upsert Vector DB**"
      ],
      "metadata": {
        "id": "P2URWV8_A_xL"
      }
    },
    {
      "cell_type": "code",
      "source": [
        "vectors_for_be_namespace = []\n",
        "vectors_for_fe_namespace = []\n",
        "for uuid, question, embedding, tech_field, tech_keyword in zip(json_uuid_list, json_questions, json_embeddings, json_tech_fields, json_tech_keywords):\n",
        "  ### ['ID', 'Value', 'Metadata'] ###\n",
        "  if \"BE\" in tech_field:\n",
        "    vectors_for_be_namespace.append((uuid, embedding, {\"text\" : question, \"tech_keyword\" : tech_keyword}))\n",
        "  if \"FE\" in tech_field:\n",
        "    vectors_for_fe_namespace.append((uuid, embedding, {\"text\" : question, \"tech_keyword\" : tech_keyword}))"
      ],
      "metadata": {
        "id": "VOEOUJiFTXMR"
      },
      "execution_count": null,
      "outputs": []
    },
    {
      "cell_type": "code",
      "source": [
        "print(len(vectors_for_be_namespace))\n",
        "print(len(vectors_for_fe_namespace))"
      ],
      "metadata": {
        "id": "NKUMFjcrTYxD"
      },
      "execution_count": null,
      "outputs": []
    },
    {
      "cell_type": "code",
      "source": [
        "index.upsert(\n",
        "    vectors=vectors_for_be_namespace,\n",
        "    namespace=\"BE\")"
      ],
      "metadata": {
        "id": "P6NWgFMiTaHx"
      },
      "execution_count": null,
      "outputs": []
    },
    {
      "cell_type": "code",
      "source": [
        "index.upsert(\n",
        "    vectors=vectors_for_fe_namespace,\n",
        "    namespace=\"FE\")"
      ],
      "metadata": {
        "id": "1KZsAuubTab2"
      },
      "execution_count": null,
      "outputs": []
    },
    {
      "cell_type": "markdown",
      "source": [
        "![image.png](data:image/png;base64,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)"
      ],
      "metadata": {
        "id": "RhDKPwsyXR3z"
      }
    }
  ]
}